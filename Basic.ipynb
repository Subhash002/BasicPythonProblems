{
 "cells": [
  {
   "cell_type": "code",
   "execution_count": 23,
   "metadata": {},
   "outputs": [],
   "source": [
    "import math\n",
    "import random"
   ]
  },
  {
   "cell_type": "code",
   "execution_count": 24,
   "metadata": {},
   "outputs": [
    {
     "name": "stdout",
     "output_type": "stream",
     "text": [
      "Hello world\n"
     ]
    }
   ],
   "source": [
    "#File Input/Output:\n",
    "file=open(\"test.txt\",\"w\")\n",
    "file.write(\"Hello world\")\n",
    "file.close()\n",
    "\n",
    "file=open(\"test.txt\",\"r\")\n",
    "print(file.read())\n",
    "file.close()"
   ]
  },
  {
   "cell_type": "code",
   "execution_count": 25,
   "metadata": {},
   "outputs": [
    {
     "name": "stdout",
     "output_type": "stream",
     "text": [
      "5\n"
     ]
    }
   ],
   "source": [
    "# Program to Add Two Numbers\n",
    "def add(x, y):\n",
    "    return x + y\n",
    "print(add(2, 3))\n",
    "\n",
    "\n",
    "def sub(*args):\n",
    "    sum=0\n",
    "    for i in args:\n",
    "        sum=sum+i\n",
    "    return sum"
   ]
  },
  {
   "cell_type": "code",
   "execution_count": 26,
   "metadata": {},
   "outputs": [
    {
     "name": "stdout",
     "output_type": "stream",
     "text": [
      "4.0\n"
     ]
    }
   ],
   "source": [
    "# Program to Find the Square Root\n",
    "def square_root(x):\n",
    "    return math.sqrt(x)\n",
    "print(square_root(16))"
   ]
  },
  {
   "cell_type": "code",
   "execution_count": 27,
   "metadata": {},
   "outputs": [
    {
     "name": "stdout",
     "output_type": "stream",
     "text": [
      "25.0\n"
     ]
    }
   ],
   "source": [
    "# Program to Calculate the Area of a Triangle\n",
    "def area_triangle(b, h):\n",
    "    return 0.5*b*h\n",
    "print(area_triangle(10, 5))"
   ]
  },
  {
   "cell_type": "code",
   "execution_count": 28,
   "metadata": {},
   "outputs": [
    {
     "name": "stdout",
     "output_type": "stream",
     "text": [
      "[3, 2]\n"
     ]
    }
   ],
   "source": [
    "# Program to Swap Two Variables\n",
    "def swap(x, y):\n",
    "    [x, y] = [y, x]\n",
    "    return [x, y]\n",
    "print(swap(2, 3))"
   ]
  },
  {
   "cell_type": "code",
   "execution_count": 29,
   "metadata": {},
   "outputs": [
    {
     "name": "stdout",
     "output_type": "stream",
     "text": [
      "Roots are real and same\n",
      "x =  -1.0\n",
      "None\n"
     ]
    }
   ],
   "source": [
    "# Program to Solve Quadratic Equation\n",
    "def solve_quad(a, b, c):\n",
    "    d = b**2 - 4*a*c\n",
    "    if d > 0:\n",
    "        x1 = (-b + math.sqrt(d)) / (2*a)\n",
    "        x2 = (-b - math.sqrt(d)) / (2*a)\n",
    "        print(\"Roots are real and different\")\n",
    "        print(\"x1 = \", x1)\n",
    "        print(\"x2 = \", x2)\n",
    "    elif d == 0:\n",
    "        x = -b / (2*a)\n",
    "        print(\"Roots are real and same\")\n",
    "        print(\"x = \", x)\n",
    "    else:\n",
    "        print(\"Roots are complex\")\n",
    "print(solve_quad(1, 2, 1))"
   ]
  },
  {
   "cell_type": "code",
   "execution_count": 30,
   "metadata": {},
   "outputs": [
    {
     "name": "stdout",
     "output_type": "stream",
     "text": [
      "212.0 F\n"
     ]
    }
   ],
   "source": [
    "# Program to Convert Celsius to Fahrenheit\n",
    "def celsius_to_fahrenheit(c):\n",
    "    return f\"{c*9/5+32} F\"\n",
    "print(celsius_to_fahrenheit(100))"
   ]
  },
  {
   "cell_type": "code",
   "execution_count": 31,
   "metadata": {},
   "outputs": [
    {
     "name": "stdout",
     "output_type": "stream",
     "text": [
      "0\n"
     ]
    }
   ],
   "source": [
    "# Program to Generate a Random Number\n",
    "def genRandom(n):\n",
    "    return random.randrange(0, n)\n",
    "print(genRandom(10))"
   ]
  },
  {
   "cell_type": "code",
   "execution_count": 32,
   "metadata": {},
   "outputs": [
    {
     "name": "stdout",
     "output_type": "stream",
     "text": [
      "Zero\n"
     ]
    }
   ],
   "source": [
    "# Program to Check if a number is Positive, Negative, or Zero\n",
    "def check_num(n):\n",
    "    if n > 0:\n",
    "        return \"Positive\"\n",
    "    elif n == 0:\n",
    "        return \"Zero\"\n",
    "    else:\n",
    "        return \"Negative\"\n",
    "print(check_num(0))"
   ]
  },
  {
   "cell_type": "code",
   "execution_count": 33,
   "metadata": {},
   "outputs": [
    {
     "name": "stdout",
     "output_type": "stream",
     "text": [
      "Odd\n"
     ]
    }
   ],
   "source": [
    "# Program to Check if a Number is Odd or Even\n",
    "def check_num(n):\n",
    "    return \"Even\" if n%2==0 else \"Odd\"\n",
    "print(check_num(3))"
   ]
  },
  {
   "cell_type": "code",
   "execution_count": 34,
   "metadata": {},
   "outputs": [
    {
     "name": "stdout",
     "output_type": "stream",
     "text": [
      "3\n"
     ]
    }
   ],
   "source": [
    "# Program to Find the Largest Among Three Numbers\n",
    "def max_num(a, b, c):\n",
    "    return a if a>b and a>c else (b if b>c and b>a else c)\n",
    "print(max_num(1, 2, 3))"
   ]
  },
  {
   "cell_type": "code",
   "execution_count": 35,
   "metadata": {},
   "outputs": [
    {
     "name": "stdout",
     "output_type": "stream",
     "text": [
      "6.21371 miles\n"
     ]
    }
   ],
   "source": [
    "# Program to Convert Kilometers to Miles\n",
    "def km_to_miles(km):\n",
    "    return f\"{km*0.621371} miles\"\n",
    "print(km_to_miles(10))"
   ]
  },
  {
   "cell_type": "code",
   "execution_count": 36,
   "metadata": {},
   "outputs": [
    {
     "name": "stdout",
     "output_type": "stream",
     "text": [
      "True\n"
     ]
    }
   ],
   "source": [
    "# Program to Check Prime Number\n",
    "def check_prime(n):\n",
    "    if n==1:\n",
    "        return False\n",
    "    for i in range(2,n):\n",
    "        if n%i==0:\n",
    "            return False\n",
    "        else: return True\n",
    "print(check_prime(7))"
   ]
  },
  {
   "cell_type": "code",
   "execution_count": 37,
   "metadata": {},
   "outputs": [
    {
     "name": "stdout",
     "output_type": "stream",
     "text": [
      "3\n",
      "5\n",
      "7\n",
      "9\n"
     ]
    }
   ],
   "source": [
    "# Program to Print All Prime Numbers in an Interval\n",
    "def print_prime(n1,n2):\n",
    "    for i in range(n1,n2+1):\n",
    "        if check_prime(i):\n",
    "            print(i)\n",
    "print_prime(1, 10)"
   ]
  },
  {
   "cell_type": "code",
   "execution_count": 38,
   "metadata": {},
   "outputs": [
    {
     "name": "stdout",
     "output_type": "stream",
     "text": [
      "120\n"
     ]
    }
   ],
   "source": [
    "# Program to Find the Factorial of a Number\n",
    "def fact(n):\n",
    "    if n==0:\n",
    "        return 1\n",
    "    else:\n",
    "        return n*fact(n-1)\n",
    "print(fact(5))"
   ]
  },
  {
   "cell_type": "code",
   "execution_count": 39,
   "metadata": {},
   "outputs": [
    {
     "name": "stdout",
     "output_type": "stream",
     "text": [
      "5 x 1 = 5\n",
      "5 x 2 = 10\n",
      "5 x 3 = 15\n",
      "5 x 4 = 20\n",
      "5 x 5 = 25\n",
      "5 x 6 = 30\n",
      "5 x 7 = 35\n",
      "5 x 8 = 40\n",
      "5 x 9 = 45\n",
      "5 x 10 = 50\n",
      "None\n"
     ]
    }
   ],
   "source": [
    "# Program to Display the Multiplication Table\n",
    "def table(n):\n",
    "    for i in range(1, 11):\n",
    "        print(f\"{n} x {i} = {n*i}\")\n",
    "print(table(5))"
   ]
  },
  {
   "cell_type": "code",
   "execution_count": 40,
   "metadata": {},
   "outputs": [
    {
     "name": "stdout",
     "output_type": "stream",
     "text": [
      "55\n"
     ]
    }
   ],
   "source": [
    "# Program to Print the Fibonacci Sequence\n",
    "def fib(n):\n",
    "    if n==0:\n",
    "        return 0\n",
    "    elif n==1:\n",
    "        return 1\n",
    "    else:\n",
    "        return fib(n-1)+fib(n-2)\n",
    "print(fib(10))"
   ]
  },
  {
   "cell_type": "code",
   "execution_count": 41,
   "metadata": {},
   "outputs": [
    {
     "name": "stdout",
     "output_type": "stream",
     "text": [
      "False\n"
     ]
    }
   ],
   "source": [
    "# Program to Check Armstrong Number\n",
    "def check_armstrong(n):\n",
    "   digitSum=sum(int(i)**2 for i in str(n))\n",
    "   return digitSum==n\n",
    "print(check_armstrong(153))"
   ]
  },
  {
   "cell_type": "code",
   "execution_count": 42,
   "metadata": {},
   "outputs": [
    {
     "name": "stdout",
     "output_type": "stream",
     "text": [
      "1\n"
     ]
    }
   ],
   "source": [
    "# Program to Find Armstrong Number in an Interval\n",
    "def armstrong(n1, n2):\n",
    "    for i in range(n1, n2+1):\n",
    "        if check_armstrong(i):\n",
    "            print(i)\n",
    "armstrong(1, 10)"
   ]
  },
  {
   "cell_type": "code",
   "execution_count": 43,
   "metadata": {},
   "outputs": [],
   "source": [
    "# Program to Make a Simple Calculator\n"
   ]
  },
  {
   "cell_type": "code",
   "execution_count": 44,
   "metadata": {},
   "outputs": [
    {
     "name": "stdout",
     "output_type": "stream",
     "text": [
      "55\n"
     ]
    }
   ],
   "source": [
    "# rogram to Find the Sum of Natural Numbers\n",
    "def sum_natural(n):\n",
    "    return (n*(n+1))//2\n",
    "print(sum_natural(10))"
   ]
  },
  {
   "cell_type": "code",
   "execution_count": 45,
   "metadata": {},
   "outputs": [
    {
     "name": "stdout",
     "output_type": "stream",
     "text": [
      "False\n"
     ]
    }
   ],
   "source": [
    "# Program to Check if the Numbers Have Same Last Digit\n",
    "def check_same_last_digit(*args):\n",
    "    temparr=[]\n",
    "    for i in args:\n",
    "        temparr.append(i%10)\n",
    "    return all(x==temparr[0] for x in temparr)\n",
    "print(check_same_last_digit(10, 20, 30, 41, 50, 60, 70, 80, 90))"
   ]
  },
  {
   "cell_type": "code",
   "execution_count": 46,
   "metadata": {},
   "outputs": [],
   "source": [
    "# Program to Find HCF or GCD"
   ]
  },
  {
   "cell_type": "code",
   "execution_count": 47,
   "metadata": {},
   "outputs": [
    {
     "name": "stdout",
     "output_type": "stream",
     "text": [
      "1\n",
      "2\n",
      "5\n",
      "10\n",
      "None\n"
     ]
    }
   ],
   "source": [
    "# Program to Find the Factors of a Number\n",
    "def factors(n):\n",
    "    for i in range(1, n+1):\n",
    "        if n%i==0:\n",
    "            print(i)\n",
    "print(factors(10))"
   ]
  },
  {
   "cell_type": "code",
   "execution_count": 48,
   "metadata": {},
   "outputs": [
    {
     "name": "stdout",
     "output_type": "stream",
     "text": [
      "55\n"
     ]
    }
   ],
   "source": [
    "#  Program to Find Sum of Natural Numbers Using Recursion\n",
    "def sum_natural(n):\n",
    "    if n==1:\n",
    "        return 1\n",
    "    else:\n",
    "        return n+sum_natural(n-1)\n",
    "print(sum_natural(10))"
   ]
  },
  {
   "cell_type": "code",
   "execution_count": 49,
   "metadata": {},
   "outputs": [
    {
     "name": "stdout",
     "output_type": "stream",
     "text": [
      "You are wrong\n"
     ]
    }
   ],
   "source": [
    "#  Program to Guess a Random Number\n",
    "def guess():\n",
    "    n=eval(input(\"Enter a number 0 and 10: \"))\n",
    "    return \"You are correct\" if random.randrange(1, n+1)==n else \"You are wrong\"\n",
    "print(guess())"
   ]
  },
  {
   "cell_type": "code",
   "execution_count": 50,
   "metadata": {},
   "outputs": [],
   "source": [
    "# Program to Shuffle Deck of Cards"
   ]
  },
  {
   "cell_type": "code",
   "execution_count": 51,
   "metadata": {},
   "outputs": [
    {
     "name": "stdout",
     "output_type": "stream",
     "text": [
      "0b1010\n"
     ]
    }
   ],
   "source": [
    "# Program to Convert Decimal to Binary\n",
    "def decimal_to_binary(n):\n",
    "    return bin(n)\n",
    "print(decimal_to_binary(10))\n"
   ]
  },
  {
   "cell_type": "code",
   "execution_count": 52,
   "metadata": {},
   "outputs": [
    {
     "name": "stdout",
     "output_type": "stream",
     "text": [
      "97\n"
     ]
    }
   ],
   "source": [
    "# Program to Find ASCII Value of Character\n",
    "def char_to_ascii(c):\n",
    "    return ord(c)\n",
    "print(char_to_ascii(\"a\"))"
   ]
  },
  {
   "cell_type": "code",
   "execution_count": 53,
   "metadata": {},
   "outputs": [
    {
     "name": "stdout",
     "output_type": "stream",
     "text": [
      "True\n"
     ]
    }
   ],
   "source": [
    "# Program to Check Whether a String is Palindrome or Not\n",
    "def checkpalindrome(s):\n",
    "    return s==s[::-1]\n",
    "print(checkpalindrome(\"madam\"))"
   ]
  },
  {
   "cell_type": "code",
   "execution_count": 54,
   "metadata": {},
   "outputs": [
    {
     "name": "stdout",
     "output_type": "stream",
     "text": [
      "dlorw\n",
      "hello\n",
      "is\n",
      "subhash\n",
      "this\n",
      "None\n"
     ]
    }
   ],
   "source": [
    "# Program to Sort Words in Alphabetical Order\n",
    "def sort_words(s):\n",
    "    return \"\".join(sorted(list(s)))\n",
    "print(sort_words(\"world\"))\n",
    "\n",
    "def sort_string(st):\n",
    "    for i in sorted(st.split(\" \")):\n",
    "        print(i)\n",
    "print(sort_string(\"hello this is subhash\"))"
   ]
  },
  {
   "cell_type": "code",
   "execution_count": 55,
   "metadata": {},
   "outputs": [
    {
     "name": "stdout",
     "output_type": "stream",
     "text": [
      "heppo\n"
     ]
    }
   ],
   "source": [
    "# Program to Replace Characters of a String\n",
    "# def replace_char(s, c1, c2):\n",
    "#     for i in range(len(s)):\n",
    "#         if s[i] == c1:\n",
    "#             s[i] = c2\n",
    "#     return s  --> This is not valid due to string assignment is not valid in python\n",
    "\n",
    "\n",
    "def replace_char(s, c1, c2):\n",
    "    return s.replace(c1, c2)\n",
    "\n",
    "def replace_char1(s, c1, c2):\n",
    "    lists=list(s)\n",
    "    for i in range(len(lists)):\n",
    "        if lists[i] == c1:\n",
    "            lists[i] = c2\n",
    "    return \"\".join(lists)\n",
    "\n",
    "def replace_char2(s, c1, c2):\n",
    "    newStr=\"\"\n",
    "    for char in s:\n",
    "        if char==c1:\n",
    "            newStr+=c2\n",
    "        else:\n",
    "            newStr+=char\n",
    "    return newStr\n",
    "\n",
    "print(replace_char2('hello', 'l', 'p'))"
   ]
  },
  {
   "cell_type": "code",
   "execution_count": 56,
   "metadata": {},
   "outputs": [
    {
     "name": "stdout",
     "output_type": "stream",
     "text": [
      "olleh\n"
     ]
    }
   ],
   "source": [
    "# Program to Reverse a String\n",
    "def reverse_string(s):\n",
    "    return s[::-1]\n",
    "print(reverse_string(\"hello\"))"
   ]
  },
  {
   "cell_type": "code",
   "execution_count": 57,
   "metadata": {},
   "outputs": [],
   "source": [
    "# Program to Create Objects in Different Ways"
   ]
  },
  {
   "cell_type": "code",
   "execution_count": 58,
   "metadata": {},
   "outputs": [
    {
     "name": "stdout",
     "output_type": "stream",
     "text": [
      "2\n"
     ]
    }
   ],
   "source": [
    "# Program to Check the Number of Occurrences of a Character in the String\n",
    "def count_char(s, c):\n",
    "    count=0\n",
    "    for i in s:\n",
    "        if i==c:\n",
    "            count+=1\n",
    "    return count\n",
    "print(count_char(\"hello\", \"l\"))"
   ]
  },
  {
   "cell_type": "code",
   "execution_count": 59,
   "metadata": {},
   "outputs": [
    {
     "name": "stdout",
     "output_type": "stream",
     "text": [
      "h\n",
      "h\n"
     ]
    }
   ],
   "source": [
    "# Program to Check the Number of Occurrences of a Character in the String and returns the most repeatative one\n",
    "def count_char(s):\n",
    "    char_count={}\n",
    "    for char in s:\n",
    "       char_count[char] = char_count.get(char, 0) + 1\n",
    "    return max(char_count, key=char_count.get)\n",
    "print(count_char(\"hello this is subhash\"))\n",
    "\n",
    "\n",
    "\n",
    "def maxOccurringChar(s):\n",
    "    strDis={}\n",
    "    for i in s:\n",
    "        strDis[i]=strDis.get(i,0)+1\n",
    "    return max(strDis,key=strDis.get)\n",
    "print(maxOccurringChar(\"hello this is subhash\"))\n"
   ]
  },
  {
   "cell_type": "code",
   "execution_count": 60,
   "metadata": {},
   "outputs": [
    {
     "name": "stdout",
     "output_type": "stream",
     "text": [
      "Hello Subhash Kandhway\n"
     ]
    }
   ],
   "source": [
    "# Program to Convert the First Letter of a String into UpperCase\n",
    "def upper_case(s):\n",
    "    strArray=[]\n",
    "    for i in s.split(\" \"):\n",
    "        strArray.append(i[0].upper()+i[1:])\n",
    "        # print((strArray))\n",
    "    return \" \".join(strArray)\n",
    "   \n",
    "print(upper_case(\"hello subhash kandhway\"))"
   ]
  },
  {
   "cell_type": "code",
   "execution_count": 61,
   "metadata": {},
   "outputs": [
    {
     "name": "stdout",
     "output_type": "stream",
     "text": [
      "2\n"
     ]
    }
   ],
   "source": [
    "# Program to Count the Number of Vowels in a String\n",
    "def count_vowels(s):\n",
    "    count=0\n",
    "    for i in s:\n",
    "        if i in \"aeiou\":\n",
    "            count+=1\n",
    "    return count\n",
    "print(count_vowels(\"hello\"))"
   ]
  },
  {
   "cell_type": "code",
   "execution_count": 62,
   "metadata": {},
   "outputs": [
    {
     "name": "stdout",
     "output_type": "stream",
     "text": [
      "{}\n"
     ]
    }
   ],
   "source": [
    "# Program to Remove a Property from an Object\n",
    "def remove_property(d, p):\n",
    "    d.pop(p)\n",
    "    return d\n",
    "print(remove_property({\"k\":\"v\"}, \"k\"))"
   ]
  },
  {
   "cell_type": "code",
   "execution_count": 63,
   "metadata": {},
   "outputs": [
    {
     "name": "stdout",
     "output_type": "stream",
     "text": [
      "False\n"
     ]
    }
   ],
   "source": [
    "# Program to Check Whether a String Starts and Ends With Certain Charactersd\n",
    "def check_string(s, c):\n",
    "    desi=[]\n",
    "    for i in s.split(\" \"):\n",
    "        if i.startswith(c):\n",
    "            desi.append(True)\n",
    "        else : desi.append(False)\n",
    "    return all(x==desi[0] for x in desi)\n",
    "\n",
    "print(check_string(\"hello this is subhash\", \"h\"))\n"
   ]
  },
  {
   "cell_type": "code",
   "execution_count": 64,
   "metadata": {},
   "outputs": [
    {
     "name": "stdout",
     "output_type": "stream",
     "text": [
      "True\n"
     ]
    }
   ],
   "source": [
    "# Program to Check if a Key Exists in an Object\n",
    "def checkKey(d,k):\n",
    "    if \"k\" in d: return True\n",
    "    else : return False\n",
    "print(checkKey({\"k\":\"v\"}, \"k\"))"
   ]
  },
  {
   "cell_type": "code",
   "execution_count": 65,
   "metadata": {},
   "outputs": [
    {
     "name": "stdout",
     "output_type": "stream",
     "text": [
      "h\n",
      "h\n"
     ]
    }
   ],
   "source": [
    "# Program to Check the Number of Occurrences of a Character in the String and returns the most repeatative one\n",
    "def count_char(s):\n",
    "    char_count={}\n",
    "    for char in s:\n",
    "       char_count[char] = char_count.get(char, 0) + 1\n",
    "    return max(char_count, key=char_count.get)\n",
    "print(count_char(\"hello this is subhash\"))\n",
    "\n",
    "\n",
    "\n",
    "def maxOccurringChar(s):\n",
    "    strDis={}\n",
    "    for i in s:\n",
    "        strDis[i]=strDis.get(i,0)+1\n",
    "    return max(strDis,key=strDis.get)\n",
    "print(maxOccurringChar(\"hello this is subhash\"))\n"
   ]
  },
  {
   "cell_type": "code",
   "execution_count": 66,
   "metadata": {},
   "outputs": [
    {
     "name": "stdout",
     "output_type": "stream",
     "text": [
      "h\n",
      "h\n"
     ]
    }
   ],
   "source": [
    "# Program to Check the Number of Occurrences of a Character in the String and returns the most repeatative one\n",
    "def count_char(s):\n",
    "    char_count={}\n",
    "    for char in s:\n",
    "       char_count[char] = char_count.get(char, 0) + 1\n",
    "    return max(char_count, key=char_count.get)\n",
    "print(count_char(\"hello this is subhash\"))\n",
    "\n",
    "\n",
    "\n",
    "def maxOccurringChar(s):\n",
    "    strDis={}\n",
    "    for i in s:\n",
    "        strDis[i]=strDis.get(i,0)+1\n",
    "    return max(strDis,key=strDis.get)\n",
    "print(maxOccurringChar(\"hello this is subhash\"))\n"
   ]
  },
  {
   "cell_type": "code",
   "execution_count": 67,
   "metadata": {},
   "outputs": [
    {
     "name": "stdout",
     "output_type": "stream",
     "text": [
      "h\n",
      "h\n"
     ]
    }
   ],
   "source": [
    "# Program to Check the Number of Occurrences of a Character in the String and returns the most repeatative one\n",
    "def count_char(s):\n",
    "    char_count={}\n",
    "    for char in s:\n",
    "       char_count[char] = char_count.get(char, 0) + 1\n",
    "    return max(char_count, key=char_count.get)\n",
    "print(count_char(\"hello this is subhash\"))\n",
    "\n",
    "\n",
    "\n",
    "def maxOccurringChar(s):\n",
    "    strDis={}\n",
    "    for i in s:\n",
    "        strDis[i]=strDis.get(i,0)+1\n",
    "    return max(strDis,key=strDis.get)\n",
    "print(maxOccurringChar(\"hello this is subhash\"))\n"
   ]
  },
  {
   "cell_type": "code",
   "execution_count": 68,
   "metadata": {},
   "outputs": [],
   "source": [
    "# Program to Clone a JS Object"
   ]
  },
  {
   "cell_type": "code",
   "execution_count": 69,
   "metadata": {},
   "outputs": [
    {
     "name": "stdout",
     "output_type": "stream",
     "text": [
      "key1 value1\n",
      "key2 value2\n",
      "key3 value3\n",
      "None\n"
     ]
    }
   ],
   "source": [
    "# Program to Loop Through an Object\n",
    "def dictLooper(d):\n",
    "    for key,value in d.items():\n",
    "        print(key,value)\n",
    "\n",
    "\n",
    "my_dict = {\"key1\": \"value1\", \"key2\": \"value2\", \"key3\": \"value3\"}\n",
    "print(dictLooper(my_dict))\n"
   ]
  },
  {
   "cell_type": "code",
   "execution_count": 70,
   "metadata": {},
   "outputs": [
    {
     "name": "stdout",
     "output_type": "stream",
     "text": [
      "h\n",
      "h\n"
     ]
    }
   ],
   "source": [
    "# Program to Check the Number of Occurrences of a Character in the String and returns the most repeatative one\n",
    "def count_char(s):\n",
    "    char_count={}\n",
    "    for char in s:\n",
    "       char_count[char] = char_count.get(char, 0) + 1\n",
    "    return max(char_count, key=char_count.get)\n",
    "print(count_char(\"hello this is subhash\"))\n",
    "\n",
    "\n",
    "\n",
    "def maxOccurringChar(s):\n",
    "    strDis={}\n",
    "    for i in s:\n",
    "        strDis[i]=strDis.get(i,0)+1\n",
    "    return max(strDis,key=strDis.get)\n",
    "print(maxOccurringChar(\"hello this is subhash\"))\n"
   ]
  },
  {
   "cell_type": "code",
   "execution_count": 71,
   "metadata": {},
   "outputs": [],
   "source": [
    "# Program to Merge Property of Two Objects"
   ]
  },
  {
   "cell_type": "code",
   "execution_count": 72,
   "metadata": {},
   "outputs": [
    {
     "name": "stdout",
     "output_type": "stream",
     "text": [
      "1\n"
     ]
    }
   ],
   "source": [
    "# Program to Count the Number of Keys/Properties in an Object\n",
    "def count_keys(d):\n",
    "    return len(d)\n",
    "print(count_keys({\"k\":\"v\"}))"
   ]
  },
  {
   "cell_type": "code",
   "execution_count": 73,
   "metadata": {},
   "outputs": [
    {
     "name": "stdout",
     "output_type": "stream",
     "text": [
      "{'k': 'v', 'm': 'n'}\n"
     ]
    }
   ],
   "source": [
    "# Program to Add Key/Value Pair to an Object\n",
    "def add_key_value(d, k, v):\n",
    "    d[k]=v\n",
    "    return d\n",
    "print(add_key_value({\"k\":\"v\"}, \"m\", \"n\"))"
   ]
  },
  {
   "cell_type": "code",
   "execution_count": 74,
   "metadata": {},
   "outputs": [],
   "source": [
    "# Program to Replace All Occurrences of a String"
   ]
  },
  {
   "cell_type": "code",
   "execution_count": 75,
   "metadata": {},
   "outputs": [],
   "source": [
    "# Program to Create Multiline Strings -- Done"
   ]
  },
  {
   "cell_type": "code",
   "execution_count": 76,
   "metadata": {},
   "outputs": [
    {
     "name": "stdout",
     "output_type": "stream",
     "text": [
      "Formatted currency: $3,432,432,423.00\n"
     ]
    }
   ],
   "source": [
    "# Program to Format Numbers as Currency Strings\n",
    "import locale\n",
    "\n",
    "# Set a specific locale (e.g., 'en_US.UTF-8')\n",
    "locale.setlocale(locale.LC_ALL, 'en_US.UTF-8')\n",
    "\n",
    "def toCurrency(n):\n",
    "    return locale.currency(n, grouping=True)\n",
    "\n",
    "formatted_value = toCurrency(3432432423)\n",
    "print(\"Formatted currency:\", formatted_value)"
   ]
  },
  {
   "cell_type": "code",
   "execution_count": 77,
   "metadata": {},
   "outputs": [
    {
     "name": "stdout",
     "output_type": "stream",
     "text": [
      "0ZIOG ADVG57TE O6ZJAW 4UD0HQ5 CMWKB 1NF5QN8HJK 7F7KSLPY2 YOUYZFP K7KG2LR7X1 VT0FRWQ95 \n"
     ]
    }
   ],
   "source": [
    "def random_words():\n",
    "    import string\n",
    "    import random\n",
    "    random_number = random.randint(5, 10)\n",
    "    return \"\".join(random.choices(string.ascii_uppercase + string.digits, k=random_number))\n",
    "\n",
    "def random_string(length):\n",
    "    gen_string = \"\"\n",
    "    for _ in range(length):\n",
    "        gen_string += random_words() +\" \"\n",
    "    return gen_string\n",
    "\n",
    "print(random_string(10))\n"
   ]
  },
  {
   "cell_type": "code",
   "execution_count": 78,
   "metadata": {},
   "outputs": [
    {
     "name": "stdout",
     "output_type": "stream",
     "text": [
      "True\n"
     ]
    }
   ],
   "source": [
    "# Program to Check if a String Starts With Another String\n",
    "def check_string(s, c):\n",
    "    return s.startswith(c)\n",
    "print(check_string(\"hello\", \"h\"))"
   ]
  },
  {
   "cell_type": "code",
   "execution_count": 79,
   "metadata": {},
   "outputs": [
    {
     "name": "stdout",
     "output_type": "stream",
     "text": [
      "hello\n"
     ]
    }
   ],
   "source": [
    "# Program to Trim a String\n",
    "def trim_string(s):\n",
    "    return s.strip()\n",
    "print(trim_string(\"  hello  \"))"
   ]
  },
  {
   "cell_type": "code",
   "execution_count": 80,
   "metadata": {},
   "outputs": [
    {
     "name": "stdout",
     "output_type": "stream",
     "text": [
      "10\n"
     ]
    }
   ],
   "source": [
    "# Program to Convert Objects to Strings\n",
    "def convert_to_string(s):\n",
    "    return str(s)\n",
    "print(convert_to_string(10))"
   ]
  },
  {
   "cell_type": "code",
   "execution_count": 81,
   "metadata": {},
   "outputs": [
    {
     "name": "stdout",
     "output_type": "stream",
     "text": [
      "True\n"
     ]
    }
   ],
   "source": [
    "# Program to Check Whether a String Contains a Substring\n",
    "def check_substring(s, sub):\n",
    "    return sub in s\n",
    "print(check_substring(\"hello this is subhash\", \"subhash\"))"
   ]
  },
  {
   "cell_type": "code",
   "execution_count": 82,
   "metadata": {},
   "outputs": [
    {
     "name": "stdout",
     "output_type": "stream",
     "text": [
      "True\n"
     ]
    }
   ],
   "source": [
    "# Program to Compare Two Strings\n",
    "def compare_string(s1, s2):\n",
    "    return s1 is s2\n",
    "print(compare_string(\"hello\", \"hello\"))"
   ]
  },
  {
   "cell_type": "code",
   "execution_count": 83,
   "metadata": {},
   "outputs": [
    {
     "name": "stdout",
     "output_type": "stream",
     "text": [
      "b'aGVsbG8='\n"
     ]
    }
   ],
   "source": [
    "# Program to Encode a String to Base64\n",
    "def encode_base64(s):\n",
    "    import base64\n",
    "    return base64.b64encode(s.encode())\n",
    "print(encode_base64(\"hello\"))"
   ]
  },
  {
   "cell_type": "code",
   "execution_count": 84,
   "metadata": {},
   "outputs": [
    {
     "name": "stdout",
     "output_type": "stream",
     "text": [
      "heppo\n"
     ]
    }
   ],
   "source": [
    "# Program to Replace all Instances of a Character in a String\n",
    "def replace_char(s, c1, c2):\n",
    "    return s.replace(c1, c2)\n",
    "print(replace_char(\"hello\", \"l\", \"p\"))"
   ]
  },
  {
   "cell_type": "code",
   "execution_count": 85,
   "metadata": {},
   "outputs": [
    {
     "name": "stdout",
     "output_type": "stream",
     "text": [
      "hello\n",
      "world\n"
     ]
    }
   ],
   "source": [
    "# Program to Replace All Line Breaks with as per requirements\n",
    "def replace_line_breaks(s,c):\n",
    "    return s.replace(\"/n\",c)\n",
    "print(replace_line_breaks(\"hello\\nworld\", \" \"))"
   ]
  },
  {
   "cell_type": "code",
   "execution_count": 86,
   "metadata": {},
   "outputs": [
    {
     "name": "stdout",
     "output_type": "stream",
     "text": [
      "Current date and time : \n",
      "2024-06-02 14:53:26\n"
     ]
    }
   ],
   "source": [
    "# Program to Display Date and Time\n",
    "def showDateTime():\n",
    "    import datetime\n",
    "    now = datetime.datetime.now()\n",
    "    print (\"Current date and time : \")\n",
    "    print (now.strftime(\"%Y-%m-%d %H:%M:%S\"))\n",
    "showDateTime()"
   ]
  },
  {
   "cell_type": "code",
   "execution_count": 87,
   "metadata": {},
   "outputs": [
    {
     "name": "stdout",
     "output_type": "stream",
     "text": [
      "True\n"
     ]
    }
   ],
   "source": [
    "# Program to Check Leap Year\n",
    "def isLeapYear(year):\n",
    "    if year%400==0 or (year%4==0 and year%100!=0):\n",
    "        return True\n",
    "    return False\n",
    "print(isLeapYear(2020))"
   ]
  },
  {
   "cell_type": "code",
   "execution_count": 88,
   "metadata": {},
   "outputs": [
    {
     "name": "stdout",
     "output_type": "stream",
     "text": [
      "01-01-2020\n"
     ]
    }
   ],
   "source": [
    "# Program to Format the Date\n",
    "def format_date(d):\n",
    "    import datetime\n",
    "    return datetime.datetime.strptime(d, \"%Y-%m-%d\").strftime(\"%d-%m-%Y\")\n",
    "print(format_date(\"2020-01-01\"))"
   ]
  },
  {
   "cell_type": "code",
   "execution_count": 89,
   "metadata": {},
   "outputs": [
    {
     "name": "stdout",
     "output_type": "stream",
     "text": [
      "Current date : \n",
      "2024-06-02\n"
     ]
    }
   ],
   "source": [
    "# Program to Display Current Date\n",
    "def showCurrentDate():\n",
    "    import datetime\n",
    "    now = datetime.datetime.now()\n",
    "    print (\"Current date : \")\n",
    "    print (now.strftime(\"%Y-%m-%d\"))\n",
    "showCurrentDate()"
   ]
  },
  {
   "cell_type": "code",
   "execution_count": 90,
   "metadata": {},
   "outputs": [
    {
     "name": "stdout",
     "output_type": "stream",
     "text": [
      "True\n"
     ]
    }
   ],
   "source": [
    "# Program to Compare The Value of Two Dates\n",
    "def compare_dates(d1, d2):\n",
    "    return d1 == d2\n",
    "print(compare_dates(\"2020-01-01\", \"2020-01-01\"))"
   ]
  },
  {
   "cell_type": "code",
   "execution_count": 91,
   "metadata": {},
   "outputs": [
    {
     "name": "stdout",
     "output_type": "stream",
     "text": [
      "Timer completed!\n"
     ]
    }
   ],
   "source": [
    "# Program to Create Countdown Timer\n",
    "def countdown_timer(t):\n",
    "    import time\n",
    "    while t:\n",
    "        mins, secs = divmod(t, 60)\n",
    "        timer = '{:02d}:{:02d}'.format(mins, secs)\n",
    "        print(timer, end=\"\\r\")\n",
    "        time.sleep(1)\n",
    "        t -= 1\n",
    "    print('Timer completed!')\n",
    "\n",
    "countdown_timer(10)"
   ]
  },
  {
   "cell_type": "code",
   "execution_count": 92,
   "metadata": {},
   "outputs": [
    {
     "name": "stdout",
     "output_type": "stream",
     "text": [
      "['a', 'c']\n"
     ]
    }
   ],
   "source": [
    "# Program to Remove Specific Item From an Array\n",
    "def remove_item(s, i):\n",
    "    s.pop(i)\n",
    "    return s\n",
    "print(remove_item([\"a\", \"b\", \"c\"], 1))"
   ]
  },
  {
   "cell_type": "code",
   "execution_count": 93,
   "metadata": {},
   "outputs": [
    {
     "name": "stdout",
     "output_type": "stream",
     "text": [
      "True\n"
     ]
    }
   ],
   "source": [
    "# Program to Check if An Array Contains a Specified Value\n",
    "def contains_value(s, v):\n",
    "    return v in s\n",
    "print(contains_value([\"a\", \"b\", \"c\"], \"b\"))"
   ]
  },
  {
   "cell_type": "code",
   "execution_count": 94,
   "metadata": {},
   "outputs": [
    {
     "name": "stdout",
     "output_type": "stream",
     "text": [
      "['a', 'b', 'c', 'd']\n"
     ]
    }
   ],
   "source": [
    "# Program to Insert Item in an Array\n",
    "def insert_item(s, e):\n",
    "    s.append(e)\n",
    "    return s\n",
    "print(insert_item([\"a\", \"b\", \"c\"], \"d\"))"
   ]
  },
  {
   "cell_type": "code",
   "execution_count": 95,
   "metadata": {},
   "outputs": [],
   "source": [
    "# Program to Append an Object to An Array"
   ]
  },
  {
   "cell_type": "code",
   "execution_count": 96,
   "metadata": {},
   "outputs": [
    {
     "name": "stdout",
     "output_type": "stream",
     "text": [
      "True\n"
     ]
    }
   ],
   "source": [
    "# Program to Check if An Object is An Array\n",
    "def is_array(s):\n",
    "    return isinstance(s, list)\n",
    "print(is_array([1, 2, 3]))"
   ]
  },
  {
   "cell_type": "code",
   "execution_count": 97,
   "metadata": {},
   "outputs": [
    {
     "name": "stdout",
     "output_type": "stream",
     "text": [
      "3\n",
      "4\n",
      "['d', 'a', 'b', 'c']\n"
     ]
    }
   ],
   "source": [
    "# Program to Add Element to Start of an Array\n",
    "def add_element(s, e):\n",
    "    print(len(s))\n",
    "    s.insert(0, e)\n",
    "    print(len(s))\n",
    "    return s\n",
    "print(add_element([\"a\", \"b\", \"c\"], \"d\"))"
   ]
  },
  {
   "cell_type": "code",
   "execution_count": 98,
   "metadata": {},
   "outputs": [
    {
     "name": "stdout",
     "output_type": "stream",
     "text": [
      "['a', 'b', 'c', 'd']\n"
     ]
    }
   ],
   "source": [
    "# Program to Remove Duplicates From Array\n",
    "def removeDuplicates(s):\n",
    "    tempArray=[]\n",
    "    for i in s:\n",
    "        if i not in tempArray:\n",
    "            tempArray.append(i)\n",
    "    return tempArray\n",
    "print(removeDuplicates([\"a\", \"b\", \"c\", \"d\", \"a\", \"b\"]))"
   ]
  },
  {
   "cell_type": "code",
   "execution_count": null,
   "metadata": {},
   "outputs": [],
   "source": [
    "# Program to Merge Two Arrays and Remove Duplicate Items"
   ]
  },
  {
   "cell_type": "code",
   "execution_count": null,
   "metadata": {},
   "outputs": [],
   "source": [
    "# Program to Sort Array of Objects by Property Values"
   ]
  },
  {
   "cell_type": "code",
   "execution_count": null,
   "metadata": {},
   "outputs": [],
   "source": [
    "# Program to Create Two Dimensional Array"
   ]
  },
  {
   "cell_type": "code",
   "execution_count": null,
   "metadata": {},
   "outputs": [],
   "source": [
    "# Program to Extract Given Property Values from Objects as Array\n"
   ]
  },
  {
   "cell_type": "code",
   "execution_count": null,
   "metadata": {},
   "outputs": [],
   "source": [
    "# Program to Compare Elements of Two Arrays"
   ]
  },
  {
   "cell_type": "code",
   "execution_count": null,
   "metadata": {},
   "outputs": [],
   "source": [
    "# Program to Get Random Item From an Array"
   ]
  },
  {
   "cell_type": "code",
   "execution_count": null,
   "metadata": {},
   "outputs": [],
   "source": [
    "# Program To Perform Intersection Between Two Arrays"
   ]
  },
  {
   "cell_type": "code",
   "execution_count": null,
   "metadata": {},
   "outputs": [],
   "source": [
    "# Program to Split Array into Smaller Chunks"
   ]
  },
  {
   "cell_type": "code",
   "execution_count": null,
   "metadata": {},
   "outputs": [],
   "source": [
    "# Program to Get File Extension"
   ]
  },
  {
   "cell_type": "code",
   "execution_count": null,
   "metadata": {},
   "outputs": [],
   "source": [
    "# Program To Check If A Variable Is undefined or null"
   ]
  },
  {
   "cell_type": "code",
   "execution_count": null,
   "metadata": {},
   "outputs": [],
   "source": [
    "# Program to Illustrate Different Set Operations"
   ]
  },
  {
   "cell_type": "code",
   "execution_count": null,
   "metadata": {},
   "outputs": [],
   "source": [
    "# Program To Get The Current URL"
   ]
  },
  {
   "cell_type": "code",
   "execution_count": null,
   "metadata": {},
   "outputs": [],
   "source": [
    "# Program to Validate An Email Address"
   ]
  },
  {
   "cell_type": "code",
   "execution_count": null,
   "metadata": {},
   "outputs": [],
   "source": [
    "# Program to Pass a Function as Parameter"
   ]
  },
  {
   "cell_type": "code",
   "execution_count": null,
   "metadata": {},
   "outputs": [],
   "source": [
    "# Program to Remove All Whitespaces From a Text"
   ]
  },
  {
   "cell_type": "code",
   "execution_count": null,
   "metadata": {},
   "outputs": [],
   "source": [
    "# Implement Area with two subclass that inherits properties of base class area"
   ]
  }
 ],
 "metadata": {
  "kernelspec": {
   "display_name": "base",
   "language": "python",
   "name": "python3"
  },
  "language_info": {
   "codemirror_mode": {
    "name": "ipython",
    "version": 3
   },
   "file_extension": ".py",
   "mimetype": "text/x-python",
   "name": "python",
   "nbconvert_exporter": "python",
   "pygments_lexer": "ipython3",
   "version": "3.11.7"
  }
 },
 "nbformat": 4,
 "nbformat_minor": 2
}
